{
 "cells": [
  {
   "cell_type": "code",
   "execution_count": null,
   "id": "55137d02",
   "metadata": {},
   "outputs": [],
   "source": []
  },
  {
   "cell_type": "code",
   "execution_count": 47,
   "id": "512f2f3a",
   "metadata": {},
   "outputs": [],
   "source": [
    "def delivery_difficulty2(total_boxes,total_weight,elevator_exist, delivery_floor):\n",
    "    box_w = 0.6\n",
    "    weight_w = 0.0003 \n",
    "    elevator_y_w = 1\n",
    "    elevator_n_w = 1\n",
    "    floor_w = 0.15\n",
    "    \n",
    "    average_object_w = 3.5\n",
    "    difficulty_w = 1\n",
    "    #우체국 배송 운임 참고 기준\n",
    "    weight_changed = ((total_weight//4000) +1)\n",
    "    if weight_changed >= total_boxes:\n",
    "        object_total_w = weight_changed\n",
    "    else:\n",
    "        object_total_w = total_boxes\n",
    "    object_final_w = object_total_w / average_object_w\n",
    "    \n",
    "    #엘리베이터 존재 X\n",
    "    if elevator_exist == 0:\n",
    "        difficulty_total = object_final_w * (elevator_n_w + (delivery_floor - 1) * floor_w)\n",
    "    \n",
    "    #엘리베이터 존재 O\n",
    "    else:\n",
    "        difficulty_total = object_final_w * elevator_y_w \n",
    "    \n",
    "    deli_difficulty = difficulty_total / difficulty_w\n",
    "    if deli_difficulty <1:\n",
    "        deli_difficulty = 1\n",
    "    elif deli_difficulty>2.5:\n",
    "        deli_difficulty = 2.5\n",
    "    return object_final_w,deli_difficulty"
   ]
  },
  {
   "cell_type": "code",
   "execution_count": 49,
   "id": "999f9a05",
   "metadata": {},
   "outputs": [
    {
     "name": "stdout",
     "output_type": "stream",
     "text": [
      "(2.2857142857142856, 2.5)\n"
     ]
    }
   ],
   "source": [
    "boxes = 4\n",
    "weight = 30150\n",
    "elevator = 0\n",
    "floor = 4\n",
    "\n",
    "test1 = delivery_difficulty2(boxes, weight, elevator, floor)\n",
    "print(test1)"
   ]
  },
  {
   "cell_type": "code",
   "execution_count": 45,
   "id": "a439cbb5",
   "metadata": {},
   "outputs": [
    {
     "name": "stdout",
     "output_type": "stream",
     "text": [
      "(2.0, 3.3)\n"
     ]
    }
   ],
   "source": []
  }
 ],
 "metadata": {
  "kernelspec": {
   "display_name": "Python 3 (ipykernel)",
   "language": "python",
   "name": "python3"
  },
  "language_info": {
   "codemirror_mode": {
    "name": "ipython",
    "version": 3
   },
   "file_extension": ".py",
   "mimetype": "text/x-python",
   "name": "python",
   "nbconvert_exporter": "python",
   "pygments_lexer": "ipython3",
   "version": "3.9.7"
  }
 },
 "nbformat": 4,
 "nbformat_minor": 5
}
