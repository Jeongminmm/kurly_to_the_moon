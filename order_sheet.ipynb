{
 "cells": [
  {
   "cell_type": "code",
   "execution_count": 38,
   "id": "6d71b995",
   "metadata": {},
   "outputs": [],
   "source": [
    "import sys\n",
    "import mysql.connector\n",
    "from mysql.connector import errorcode\n",
    "import time\n",
    "import random\n",
    "import numpy as np\n",
    "from PIL import Image\n",
    "import matplotlib.pyplot as plt\n",
    "import csv"
   ]
  },
  {
   "cell_type": "code",
   "execution_count": 158,
   "id": "a79a6806",
   "metadata": {},
   "outputs": [
    {
     "name": "stdout",
     "output_type": "stream",
     "text": [
      "Connection established\n",
      "object no: 55 object_quantity 2\n",
      "object no: 19 object_quantity 3\n",
      "object no: 112 object_quantity 3\n",
      "2 box 3290 g\n",
      "object no: 112 object_quantity 2\n",
      "object no: 121 object_quantity 1\n",
      "object no: 52 object_quantity 1\n",
      "object no: 18 object_quantity 3\n",
      "object no: 111 object_quantity 2\n",
      "object no: 15 object_quantity 2\n",
      "object no: 9 object_quantity 3\n",
      "object no: 77 object_quantity 2\n",
      "4 box 9350 g\n"
     ]
    }
   ],
   "source": [
    "try:\n",
    "    conn = mysql.connector.connect(host = '61.252.59.35',port = 30306,database = 'kurly_object',user = 'root',password = 'root')\n",
    "    print(\"Connection established\")\n",
    "except mysql.connector.Error as err:\n",
    "    if err.errno == errorcode.ER_ACCESS_DENIED_ERROR:\n",
    "        print(\"Something is wrong with the user name or password\")\n",
    "    elif err.errno == errorcode.ER_BAD_DB_ERROR:\n",
    "        print(\"Database does not exist\")\n",
    "    else:\n",
    "        print(err)\n",
    "else:\n",
    "    cursor = conn.cursor(prepared=True)\n",
    "    #물품(1-122)\n",
    "    order_num = 3\n",
    "    for i in range(1,order_num):\n",
    "        #상온\n",
    "        ordinary_storage_weight = 0\n",
    "        ordinary_storage_volume = 0\n",
    "        ordinary_storage_boxes = 0\n",
    "        #냉장\n",
    "        cold_storage_weight = 0\n",
    "        cold_storage_volume = 0\n",
    "        cold_storage_boxes = 0\n",
    "        #냉동\n",
    "        freeze_storage_weight = 0\n",
    "        freeze_storage_volume = 0\n",
    "        freeze_storage_boxes = 0\n",
    "        #총\n",
    "        boxes_volume = 10000\n",
    "        total_boxes = 0\n",
    "        total_weight = 0\n",
    "        order_total_quantity = random.randint(2,10)\n",
    "        \n",
    "        order_object_no= []\n",
    "        for i in range(1,order_total_quantity):\n",
    "            object_no = random.randint(1,122)\n",
    "            object_quantity = random.randint(1,3)\n",
    "            print(\"object no:\",object_no,\"object_quantity\",object_quantity)\n",
    "            sql = \"SELECT object_shape,object_storage,object_weight,object_volume FROM object where object_no = (%s);\"\n",
    "            cursor.execute(sql,[object_no])\n",
    "            for result in cursor:\n",
    "                if result[0] == 2:\n",
    "                    total_boxes += (1 * object_quantity)\n",
    "                    total_weight += (result[2] * object_quantity)\n",
    "                else:\n",
    "                    if result[1] == 0:\n",
    "                        cold_storage_weight += (result[2] * object_quantity)\n",
    "                        cold_storage_volume += (result[3] * object_quantity)\n",
    "\n",
    "                    elif result[1] == 1:\n",
    "                        freeze_storage_weight += (result[2] * object_quantity)\n",
    "                        freeze_storage_volume += (result[3] * object_quantity)\n",
    "\n",
    "                    else:\n",
    "                        ordinary_storage_weight += (result[2] * object_quantity)\n",
    "                        ordinary_storage_volume += (result[3] * object_quantity)\n",
    "        if cold_storage_volume != 0:                \n",
    "            cold_storage_boxes += (cold_storage_volume // boxes_volume) + 1\n",
    "        if freeze_storage_volume != 0:\n",
    "            freeze_storage_boxes += (freeze_storage_volume // boxes_volume) + 1\n",
    "        if ordinary_storage_volume !=0:\n",
    "            ordinary_storage_boxes += (ordinary_storage_volume // boxes_volume) + 1\n",
    "        \n",
    "        total_boxes = total_boxes + cold_storage_boxes + freeze_storage_boxes + ordinary_storage_boxes\n",
    "        total_weight = total_weight + cold_storage_weight + freeze_storage_weight + ordinary_storage_weight\n",
    "        print(total_boxes,\"box\",total_weight,\"g\")"
   ]
  },
  {
   "cell_type": "code",
   "execution_count": 160,
   "id": "9927fe66",
   "metadata": {},
   "outputs": [],
   "source": [
    "def delivery_difficulty2(total_boxes,total_weight,elevator_exist, delivery_floor):\n",
    "    box_w = 0.6\n",
    "    weight_w = 0.0003 \n",
    "    elevator_y_w = 1\n",
    "    elevator_n_w = 1\n",
    "    floor_w = 0.15\n",
    "    \n",
    "    average_object_w = 3.5\n",
    "    difficulty_w = 1\n",
    "    #우체국 배송 운임 참고 기준\n",
    "    weight_changed = ((total_weight//4000) +1)\n",
    "    if weight_changed >= total_boxes:\n",
    "        object_total_w = weight_changed\n",
    "    else:\n",
    "        object_total_w = total_boxes\n",
    "    object_final_w = object_total_w / average_object_w\n",
    "    \n",
    "    #엘리베이터 존재 X\n",
    "    if elevator_exist == 0:\n",
    "        difficulty_total = object_final_w * (elevator_n_w + (delivery_floor - 1) * floor_w)\n",
    "    \n",
    "    #엘리베이터 존재 O\n",
    "    else:\n",
    "        difficulty_total = object_final_w * elevator_y_w \n",
    "    \n",
    "    deli_difficulty = difficulty_total / difficulty_w\n",
    "    if deli_difficulty <1:\n",
    "        deli_difficulty = 1\n",
    "    elif deli_difficulty>2.5:\n",
    "        deli_difficulty = 2.5\n",
    "    return object_final_w,deli_difficulty"
   ]
  },
  {
   "cell_type": "code",
   "execution_count": 161,
   "id": "2efd3b15",
   "metadata": {},
   "outputs": [
    {
     "name": "stdout",
     "output_type": "stream",
     "text": [
      "(1.1428571428571428, 1.8285714285714285)\n"
     ]
    }
   ],
   "source": [
    "elevator = 0\n",
    "floor = 5\n",
    "test1 = delivery_difficulty2(total_boxes, total_weight, elevator, floor)\n",
    "print(test1)"
   ]
  },
  {
   "cell_type": "code",
   "execution_count": null,
   "id": "7610fbd9",
   "metadata": {},
   "outputs": [],
   "source": []
  }
 ],
 "metadata": {
  "kernelspec": {
   "display_name": "Python 3 (ipykernel)",
   "language": "python",
   "name": "python3"
  },
  "language_info": {
   "codemirror_mode": {
    "name": "ipython",
    "version": 3
   },
   "file_extension": ".py",
   "mimetype": "text/x-python",
   "name": "python",
   "nbconvert_exporter": "python",
   "pygments_lexer": "ipython3",
   "version": "3.9.7"
  }
 },
 "nbformat": 4,
 "nbformat_minor": 5
}
