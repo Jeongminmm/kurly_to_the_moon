{
 "cells": [
  {
   "cell_type": "code",
   "execution_count": 2,
   "id": "bcaaf143",
   "metadata": {},
   "outputs": [],
   "source": [
    "import sys\n",
    "import mysql.connector\n",
    "from mysql.connector import errorcode\n",
    "import time\n",
    "import random\n",
    "import numpy as np\n",
    "from PIL import Image\n",
    "import matplotlib.pyplot as plt\n",
    "import csv"
   ]
  },
  {
   "cell_type": "code",
   "execution_count": 23,
   "id": "be7d7861",
   "metadata": {
    "scrolled": true
   },
   "outputs": [
    {
     "name": "stdout",
     "output_type": "stream",
     "text": [
      "Connection established\n",
      "5.1 | 3.0 | 4.0 | 5.0 | 10.5 | 2.0 | 1.0 | \n",
      "----------------------------------------\n",
      "5.4 | 3.0 | 0 | 1.2 | 6.7 | 3.0 | 2.0 | \n",
      "----------------------------------------\n",
      "8.4 | 10.7 | 9.6 | 3.0 | 3.1 | 10.6 | 3.9 | \n",
      "----------------------------------------\n",
      "8.1 | 11.1 | 4.5 | 14.9 | 5.9 | 3.0 | 0 | \n",
      "----------------------------------------\n",
      "19.7 | 4.4 | 15.2 | 8.1 | 0 | 6.3 | 3.4 | \n",
      "----------------------------------------\n",
      "3.3 | 0 | 9.7 | 11.4 | 6.0 | 1.0 | 6.7 | \n",
      "----------------------------------------\n",
      "243.9\n"
     ]
    }
   ],
   "source": [
    "try:\n",
    "    conn = mysql.connector.connect(host = 'kurly-db.cxt53rg7mbem.ap-northeast-2.rds.amazonaws.com',port = 3306,database = 'kurlyDB',user = 'root',password = 'zjfflxnejans')\n",
    "    print(\"Connection established\")\n",
    "except mysql.connector.Error as err:\n",
    "    if err.errno == errorcode.ER_ACCESS_DENIED_ERROR:\n",
    "        print(\"Something is wrong with the user name or password\")\n",
    "    elif err.errno == errorcode.ER_BAD_DB_ERROR:\n",
    "        print(\"Database does not exist\")\n",
    "    else:\n",
    "        print(err)\n",
    "else:\n",
    "    cursor = conn.cursor(prepared=True)\n",
    "    #물품(1-122)\n",
    "    region_row_num = 6\n",
    "    region_col_num = 7\n",
    "    region_difficulty = [[0 for i in range(region_col_num)] for j in range(region_row_num)]\n",
    "    \n",
    "    sql_address = \"SELECT delivery_difficulty FROM fake_invoice where address_row = (%s) and address_col = (%s);\"\n",
    "    sql_region_difficulty = \"insert into region_difficulty_sum(address_row,address_col,difficulty) values (%s,%s,%s);\"\n",
    "    \n",
    "    for region_row in range(1,region_row_num+1):\n",
    "        for region_col in range(1,region_col_num+1):\n",
    "            delivery_difficulty = 0\n",
    "            \n",
    "            cursor.execute(sql_address,[region_row,region_col])\n",
    "            for result in cursor:\n",
    "                delivery_difficulty += result[0]\n",
    "            region_difficulty[region_row-1][region_col-1] = round(delivery_difficulty,2)\n",
    "            cursor.execute(sql_region_difficulty,[region_row,region_col,delivery_difficulty])\n",
    "    \n",
    "    conn.commit()\n",
    "    sum = 0\n",
    "    for i in region_difficulty :\n",
    "        for j in i:\n",
    "            print(j,end=\" | \")\n",
    "            sum += j\n",
    "        #input\n",
    "        \n",
    "        print()\n",
    "        print(\"----------------------------------------\")\n",
    "    print(round(sum,1))\n"
   ]
  },
  {
   "cell_type": "code",
   "execution_count": null,
   "id": "2c1a008d",
   "metadata": {},
   "outputs": [],
   "source": []
  }
 ],
 "metadata": {
  "kernelspec": {
   "display_name": "Python 3 (ipykernel)",
   "language": "python",
   "name": "python3"
  },
  "language_info": {
   "codemirror_mode": {
    "name": "ipython",
    "version": 3
   },
   "file_extension": ".py",
   "mimetype": "text/x-python",
   "name": "python",
   "nbconvert_exporter": "python",
   "pygments_lexer": "ipython3",
   "version": "3.9.7"
  }
 },
 "nbformat": 4,
 "nbformat_minor": 5
}
