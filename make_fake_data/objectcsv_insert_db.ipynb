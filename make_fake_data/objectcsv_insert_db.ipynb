{
 "cells": [
  {
   "cell_type": "code",
   "execution_count": 2,
   "id": "beb92c66",
   "metadata": {},
   "outputs": [],
   "source": [
    "import sys\n",
    "import mysql.connector\n",
    "from mysql.connector import errorcode\n",
    "import time\n",
    "import random\n",
    "import numpy as np\n",
    "from PIL import Image\n",
    "import matplotlib.pyplot as plt\n",
    "import csv"
   ]
  },
  {
   "cell_type": "code",
   "execution_count": 8,
   "id": "7766e20d",
   "metadata": {},
   "outputs": [
    {
     "name": "stdout",
     "output_type": "stream",
     "text": [
      "Connection established\n"
     ]
    }
   ],
   "source": [
    "#address input\n",
    "try:\n",
    "    conn = mysql.connector.connect(host = 'kurly-db.cxt53rg7mbem.ap-northeast-2.rds.amazonaws.com',port = 3306,database = 'kurlyDB',user = 'root',password = 'zjfflxnejans')\n",
    "    print(\"Connection established\")\n",
    "except mysql.connector.Error as err:\n",
    "    if err.errno == errorcode.ER_ACCESS_DENIED_ERROR:\n",
    "        print(\"Something is wrong with the user name or password\")\n",
    "    elif err.errno == errorcode.ER_BAD_DB_ERROR:\n",
    "        print(\"Database does not exist\")\n",
    "    else:\n",
    "        print(err)\n",
    "else:\n",
    "    cursor = conn.cursor(prepared=True)\n",
    "    f = open('kurly_address.csv','r',encoding='utf-8')\n",
    "    csvReader = csv.reader(f)\n",
    "    object_no = 0\n",
    "    for row in csvReader:  \n",
    "        if object_no > 0:\n",
    "            address_no = int(row[0])\n",
    "            address_name = str(row[1])\n",
    "            address_col = row[2]\n",
    "            address_row = row[3]\n",
    "            address_max_floor = row[4]\n",
    "            address_elevator = row[5]  \n",
    "            sql = \"insert into kurly_add(id,address,region_col,region_row,floor,elevator) values (%s,%s,%s,%s,%s,%s);\"\n",
    "            cursor.execute(sql,[address_no,address_name,address_col,address_row,address_max_floor,address_elevator])\n",
    "        object_no = object_no + 1\n",
    "    conn.commit()\n"
   ]
  },
  {
   "cell_type": "code",
   "execution_count": null,
   "id": "55797916",
   "metadata": {},
   "outputs": [],
   "source": [
    "#object input\n",
    "try:\n",
    "  conn = mysql.connector.connect(host = 'kurly-db.cxt53rg7mbem.ap-northeast-2.rds.amazonaws.com',port = 3306,database = 'kurlyDB',user = 'root',password = 'zjfflxnejans')\n",
    "  print(\"Connection established\")\n",
    "except mysql.connector.Error as err:\n",
    "  if err.errno == errorcode.ER_ACCESS_DENIED_ERROR:\n",
    "    print(\"Something is wrong with the user name or password\")\n",
    "  elif err.errno == errorcode.ER_BAD_DB_ERROR:\n",
    "    print(\"Database does not exist\")\n",
    "  else:\n",
    "    print(err)\n",
    "else:\n",
    "  cursor = conn.cursor(prepared=True)\n",
    "  f = open('kurly_object.csv','r',encoding='utf-8')\n",
    "  csvReader = csv.reader(f)\n",
    "  object_no = 0\n",
    "  for row in csvReader:  \n",
    "    if object_no > 0:\n",
    "      object_category = str(row[0])\n",
    "      object_name = str(row[1])\n",
    "      object_weight = int(row[2])\n",
    "      object_volume = int(row[3])\n",
    "      object_shape = int(row[4])\n",
    "      object_storage = int(row[5])  \n",
    "      sql = \"insert into object values (%s,%s,%s,%s,%s,%s,%s);\"\n",
    "      cursor.execute(sql,(object_no,object_category,object_name,object_weight,object_volume,object_shape,object_storage))\n",
    "    object_no = object_no + 1\n",
    "    conn.commit()"
   ]
  }
 ],
 "metadata": {
  "kernelspec": {
   "display_name": "Python 3 (ipykernel)",
   "language": "python",
   "name": "python3"
  },
  "language_info": {
   "codemirror_mode": {
    "name": "ipython",
    "version": 3
   },
   "file_extension": ".py",
   "mimetype": "text/x-python",
   "name": "python",
   "nbconvert_exporter": "python",
   "pygments_lexer": "ipython3",
   "version": "3.9.7"
  }
 },
 "nbformat": 4,
 "nbformat_minor": 5
}
